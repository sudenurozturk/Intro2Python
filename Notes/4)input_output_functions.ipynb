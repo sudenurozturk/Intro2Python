{
  "nbformat": 4,
  "nbformat_minor": 0,
  "metadata": {
    "colab": {
      "provenance": [],
      "include_colab_link": true
    },
    "kernelspec": {
      "name": "python3",
      "display_name": "Python 3"
    },
    "language_info": {
      "name": "python"
    }
  },
  "cells": [
    {
      "cell_type": "markdown",
      "metadata": {
        "id": "view-in-github",
        "colab_type": "text"
      },
      "source": [
        "<a href=\"https://colab.research.google.com/github/sudenurozturk/Intro2Python/blob/main/input_output_functions.ipynb\" target=\"_parent\"><img src=\"https://colab.research.google.com/assets/colab-badge.svg\" alt=\"Open In Colab\"/></a>"
      ]
    },
    {
      "cell_type": "markdown",
      "source": [
        "# Input Output Functions"
      ],
      "metadata": {
        "id": "c1EFNM5lryMH"
      }
    },
    {
      "cell_type": "markdown",
      "source": [
        "Until now the code examples we looked at were quite static. By that I mean that we defined the values of our variables ourselves. However, in the real world, programs often need to interact with users. That means that they need to be able to get inputs from users and also show them some kind of results."
      ],
      "metadata": {
        "id": "yi9-TK-Vr2Yi"
      }
    },
    {
      "cell_type": "markdown",
      "source": [
        "In Python, **print** is an output function."
      ],
      "metadata": {
        "id": "ntZzJDror95h"
      }
    },
    {
      "cell_type": "code",
      "execution_count": 1,
      "metadata": {
        "colab": {
          "base_uri": "https://localhost:8080/"
        },
        "id": "FBAHDb1B4L-_",
        "outputId": "49fcb8af-2496-43de-cdcc-02812d5655dd"
      },
      "outputs": [
        {
          "output_type": "stream",
          "name": "stdout",
          "text": [
            "Hi, this is Python\n"
          ]
        }
      ],
      "source": [
        "print(\"Hi, this is Python\")"
      ]
    },
    {
      "cell_type": "code",
      "source": [
        "name = \"Deniz\"\n",
        "print(name)"
      ],
      "metadata": {
        "colab": {
          "base_uri": "https://localhost:8080/"
        },
        "id": "mnzARWAq4XT1",
        "outputId": "9ac80d96-3f1f-42b0-8521-b39cb254be18"
      },
      "execution_count": 2,
      "outputs": [
        {
          "output_type": "stream",
          "name": "stdout",
          "text": [
            "Deniz\n"
          ]
        }
      ]
    },
    {
      "cell_type": "code",
      "source": [
        "name = \"Selin\"\n",
        "print('Hello', name)\n"
      ],
      "metadata": {
        "colab": {
          "base_uri": "https://localhost:8080/"
        },
        "id": "a-x5I48v4ZB4",
        "outputId": "f97f17c7-d044-4962-d5de-8abe5ed464c2"
      },
      "execution_count": 3,
      "outputs": [
        {
          "output_type": "stream",
          "name": "stdout",
          "text": [
            "Hello Selin\n"
          ]
        }
      ]
    },
    {
      "cell_type": "code",
      "source": [
        "print(15)"
      ],
      "metadata": {
        "colab": {
          "base_uri": "https://localhost:8080/"
        },
        "id": "h5b8U5VG4sCY",
        "outputId": "9fd6f22c-557e-4ffc-be62-739038029b91"
      },
      "execution_count": 4,
      "outputs": [
        {
          "output_type": "stream",
          "name": "stdout",
          "text": [
            "15\n"
          ]
        }
      ]
    },
    {
      "cell_type": "markdown",
      "source": [
        "For example, with this code we can print a personalized greeting. When this code is run, the user has to enter the value of the `name` variable. Then, the print function will produce an output according to the value that the user has entered. In our example, let’s say the user enters “Sude”. The output will be as follows. When we run the code again and enter “Ayşe” instead of “Sude”, our output will change."
      ],
      "metadata": {
        "id": "8d9zOxKMsRuq"
      }
    },
    {
      "cell_type": "code",
      "source": [
        "name = input('Name:')\n",
        "print('Greetings', name)"
      ],
      "metadata": {
        "colab": {
          "base_uri": "https://localhost:8080/"
        },
        "id": "QURcmMpg4v8t",
        "outputId": "461206b3-f1a5-4512-b06b-a9fe2ba0d5c7"
      },
      "execution_count": 5,
      "outputs": [
        {
          "output_type": "stream",
          "name": "stdout",
          "text": [
            "Name:Sude\n",
            "Greetings Sude\n"
          ]
        }
      ]
    },
    {
      "cell_type": "markdown",
      "source": [
        "We are getting an error because our code is trying to add string and integer data. Data from our input function is stored as **string** data type."
      ],
      "metadata": {
        "id": "tg1eu4aHsgGB"
      }
    },
    {
      "cell_type": "code",
      "source": [
        "number = input(\"Number: \")\n",
        "print(number + 10)"
      ],
      "metadata": {
        "colab": {
          "base_uri": "https://localhost:8080/",
          "height": 176
        },
        "id": "FqFvyXT24yBa",
        "outputId": "8daa2bf5-b38d-4af6-f7e5-baf323ddd5a4"
      },
      "execution_count": 6,
      "outputs": [
        {
          "name": "stdout",
          "output_type": "stream",
          "text": [
            "Number: 5\n"
          ]
        },
        {
          "output_type": "error",
          "ename": "TypeError",
          "evalue": "can only concatenate str (not \"int\") to str",
          "traceback": [
            "\u001b[0;31m---------------------------------------------------------------------------\u001b[0m",
            "\u001b[0;31mTypeError\u001b[0m                                 Traceback (most recent call last)",
            "\u001b[0;32m<ipython-input-6-a07d619c15d2>\u001b[0m in \u001b[0;36m<cell line: 0>\u001b[0;34m()\u001b[0m\n\u001b[1;32m      1\u001b[0m \u001b[0mnumber\u001b[0m \u001b[0;34m=\u001b[0m \u001b[0minput\u001b[0m\u001b[0;34m(\u001b[0m\u001b[0;34m\"Number: \"\u001b[0m\u001b[0;34m)\u001b[0m\u001b[0;34m\u001b[0m\u001b[0;34m\u001b[0m\u001b[0m\n\u001b[0;32m----> 2\u001b[0;31m \u001b[0mprint\u001b[0m\u001b[0;34m(\u001b[0m\u001b[0mnumber\u001b[0m \u001b[0;34m+\u001b[0m \u001b[0;36m10\u001b[0m\u001b[0;34m)\u001b[0m\u001b[0;34m\u001b[0m\u001b[0;34m\u001b[0m\u001b[0m\n\u001b[0m",
            "\u001b[0;31mTypeError\u001b[0m: can only concatenate str (not \"int\") to str"
          ]
        }
      ]
    },
    {
      "cell_type": "markdown",
      "source": [
        "We need to convert the data to integer."
      ],
      "metadata": {
        "id": "7w4VSlHsstAf"
      }
    },
    {
      "cell_type": "code",
      "source": [
        "number = int(input(\"Number: \"))\n",
        "print(number + 10)"
      ],
      "metadata": {
        "colab": {
          "base_uri": "https://localhost:8080/"
        },
        "id": "x9cZGpf74_T_",
        "outputId": "e42956f1-abb9-4e5c-d6fb-685219100e9e"
      },
      "execution_count": 7,
      "outputs": [
        {
          "output_type": "stream",
          "name": "stdout",
          "text": [
            "Number: 5\n",
            "15\n"
          ]
        }
      ]
    },
    {
      "cell_type": "markdown",
      "source": [
        "In short, the input and output functions in Python make it possible for our programs to interact with users. On one hand to get values from them, thanks to the input function and on the other hand to show them some information or result, with the help of the print function."
      ],
      "metadata": {
        "id": "fMyMENMAsztk"
      }
    }
  ]
}
