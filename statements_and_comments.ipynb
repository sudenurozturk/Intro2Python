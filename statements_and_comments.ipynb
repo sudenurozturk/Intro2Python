{
  "nbformat": 4,
  "nbformat_minor": 0,
  "metadata": {
    "colab": {
      "provenance": [],
      "include_colab_link": true
    },
    "kernelspec": {
      "name": "python3",
      "display_name": "Python 3"
    },
    "language_info": {
      "name": "python"
    }
  },
  "cells": [
    {
      "cell_type": "markdown",
      "metadata": {
        "id": "view-in-github",
        "colab_type": "text"
      },
      "source": [
        "<a href=\"https://colab.research.google.com/github/sudenurozturk/Intro2Python/blob/main/statements_and_comments.ipynb\" target=\"_parent\"><img src=\"https://colab.research.google.com/assets/colab-badge.svg\" alt=\"Open In Colab\"/></a>"
      ]
    },
    {
      "cell_type": "markdown",
      "source": [
        "# Statements and Comments"
      ],
      "metadata": {
        "id": "qETjsJupm2cY"
      }
    },
    {
      "cell_type": "markdown",
      "source": [
        "A statement is a command or instruction that Python can understand and execute.  All you have to do is give the variable an identifier, put the equal sign (=) and then the value you want to assign. That’s your statement."
      ],
      "metadata": {
        "id": "saVlU6jRm7CV"
      }
    },
    {
      "cell_type": "code",
      "execution_count": null,
      "metadata": {
        "id": "LRCRuQyZpH4-"
      },
      "outputs": [],
      "source": [
        "pi = 3.14"
      ]
    },
    {
      "cell_type": "code",
      "source": [
        "print(pi)"
      ],
      "metadata": {
        "colab": {
          "base_uri": "https://localhost:8080/"
        },
        "id": "Bj4B4TiXpMKK",
        "outputId": "56395db7-57c4-4b4a-b63d-a7d1bf776ab6"
      },
      "execution_count": null,
      "outputs": [
        {
          "output_type": "stream",
          "name": "stdout",
          "text": [
            "3.14\n"
          ]
        }
      ]
    },
    {
      "cell_type": "markdown",
      "source": [
        "**Blocks** are tasks or commands that require multiple statements that are connected to each other.\n",
        "Most other programming languages use curly braces to describe a block of code. However, Python uses **indentation**.\n",
        "The amount of indentation is up to you, a tab generally equals 4 spaces but you can customize it according to your preference as long as it is the same throughout your code. So, if you chose 4 spaces in the beginning, you should use 4 spaces throughout the entire code."
      ],
      "metadata": {
        "id": "z4vJ4QxJne60"
      }
    },
    {
      "cell_type": "code",
      "source": [
        "def greetings(name):\n",
        "    print(f'Hello, {name}')"
      ],
      "metadata": {
        "id": "Cez-677UpNOL"
      },
      "execution_count": null,
      "outputs": []
    },
    {
      "cell_type": "code",
      "source": [
        "pi = 3.14\n",
        "if pi < 3.15:\n",
        "  pi = pi + 0.1\n",
        "\n",
        "print(pi)"
      ],
      "metadata": {
        "colab": {
          "base_uri": "https://localhost:8080/"
        },
        "id": "hLXA_SESpRa-",
        "outputId": "425e9371-fa51-4903-f2da-5f1f3e280e2d"
      },
      "execution_count": null,
      "outputs": [
        {
          "output_type": "stream",
          "name": "stdout",
          "text": [
            "3.24\n"
          ]
        }
      ]
    },
    {
      "cell_type": "markdown",
      "source": [
        "Indents are very useful for programmers as they make the code easier to read.\n",
        "\n",
        "However, they don’t explain what the written program does. We can do this by using **comment lines**. So that later, when you or someone else looks at the code, it will be easy to understand. We use the hash (#) symbol to start commenting in Python."
      ],
      "metadata": {
        "id": "oiQvIj3VoU-9"
      }
    },
    {
      "cell_type": "markdown",
      "source": [
        "Python ignores lines with hash symbols so that line is not executed."
      ],
      "metadata": {
        "id": "fHyCYmaronUg"
      }
    },
    {
      "cell_type": "code",
      "source": [
        "# obviously this function shows a greeting message according to the given name :)\n",
        "def greetings(name):\n",
        "    print(f'Hello, {name}')"
      ],
      "metadata": {
        "id": "ZnyDprjdpj_0"
      },
      "execution_count": null,
      "outputs": []
    },
    {
      "cell_type": "markdown",
      "source": [
        "The hash symbol also comes in handy when test running your code. For example, when you have an error in your program and you want to try an alternative statement or block. You can simply put a hash symbol in front of your old line of code and try out other variations. This way you do not lose your original code, but it will not get executed."
      ],
      "metadata": {
        "id": "Q_nDnCFgomBp"
      }
    },
    {
      "cell_type": "code",
      "source": [
        "#def greeting(name):\n",
        "#  print(hello + name)\n",
        "#greeting('Deniz')"
      ],
      "metadata": {
        "colab": {
          "base_uri": "https://localhost:8080/",
          "height": 298
        },
        "id": "6157bxOFpof6",
        "outputId": "e599610e-abb4-4a6d-e7c6-ee2fa10d7d62"
      },
      "execution_count": null,
      "outputs": [
        {
          "output_type": "error",
          "ename": "NameError",
          "evalue": "ignored",
          "traceback": [
            "\u001b[0;31m---------------------------------------------------------------------------\u001b[0m",
            "\u001b[0;31mNameError\u001b[0m                                 Traceback (most recent call last)",
            "\u001b[0;32m<ipython-input-10-b103f49ca300>\u001b[0m in \u001b[0;36m<module>\u001b[0;34m()\u001b[0m\n\u001b[1;32m      1\u001b[0m \u001b[0;32mdef\u001b[0m \u001b[0mgreeting\u001b[0m\u001b[0;34m(\u001b[0m\u001b[0mname\u001b[0m\u001b[0;34m)\u001b[0m\u001b[0;34m:\u001b[0m\u001b[0;34m\u001b[0m\u001b[0;34m\u001b[0m\u001b[0m\n\u001b[1;32m      2\u001b[0m   \u001b[0mprint\u001b[0m\u001b[0;34m(\u001b[0m\u001b[0mhello\u001b[0m \u001b[0;34m+\u001b[0m \u001b[0mname\u001b[0m\u001b[0;34m)\u001b[0m\u001b[0;34m\u001b[0m\u001b[0;34m\u001b[0m\u001b[0m\n\u001b[0;32m----> 3\u001b[0;31m \u001b[0mgreeting\u001b[0m\u001b[0;34m(\u001b[0m\u001b[0;34m'Deniz'\u001b[0m\u001b[0;34m)\u001b[0m\u001b[0;34m\u001b[0m\u001b[0;34m\u001b[0m\u001b[0m\n\u001b[0m",
            "\u001b[0;32m<ipython-input-10-b103f49ca300>\u001b[0m in \u001b[0;36mgreeting\u001b[0;34m(name)\u001b[0m\n\u001b[1;32m      1\u001b[0m \u001b[0;32mdef\u001b[0m \u001b[0mgreeting\u001b[0m\u001b[0;34m(\u001b[0m\u001b[0mname\u001b[0m\u001b[0;34m)\u001b[0m\u001b[0;34m:\u001b[0m\u001b[0;34m\u001b[0m\u001b[0;34m\u001b[0m\u001b[0m\n\u001b[0;32m----> 2\u001b[0;31m   \u001b[0mprint\u001b[0m\u001b[0;34m(\u001b[0m\u001b[0mhello\u001b[0m \u001b[0;34m+\u001b[0m \u001b[0mname\u001b[0m\u001b[0;34m)\u001b[0m\u001b[0;34m\u001b[0m\u001b[0;34m\u001b[0m\u001b[0m\n\u001b[0m\u001b[1;32m      3\u001b[0m \u001b[0mgreeting\u001b[0m\u001b[0;34m(\u001b[0m\u001b[0;34m'Deniz'\u001b[0m\u001b[0;34m)\u001b[0m\u001b[0;34m\u001b[0m\u001b[0;34m\u001b[0m\u001b[0m\n",
            "\u001b[0;31mNameError\u001b[0m: name 'hello' is not defined"
          ]
        }
      ]
    },
    {
      "cell_type": "code",
      "source": [
        "def greeting(name):\n",
        "  print('hello ' + name)\n",
        "greeting('Deniz')"
      ],
      "metadata": {
        "colab": {
          "base_uri": "https://localhost:8080/"
        },
        "id": "os4vkz4_puun",
        "outputId": "2959adb2-fb9e-4422-9e03-0e463b34e23b"
      },
      "execution_count": null,
      "outputs": [
        {
          "output_type": "stream",
          "name": "stdout",
          "text": [
            "hello Deniz\n"
          ]
        }
      ]
    },
    {
      "cell_type": "markdown",
      "source": [
        "There are also cases where you want to have multiple lines of comments, that should not be executed by Python. Like when describing the purpose of certain functions. Instead of putting a hash symbol in front of every coding line you can use triple-quotes."
      ],
      "metadata": {
        "id": "XYV-qs1kotgV"
      }
    },
    {
      "cell_type": "code",
      "source": [
        "\"\"\"\n",
        "This is a long comment that can make the code harder\n",
        "to read on a small screen, so it needs to be broken into\n",
        "multiple lines using triple-quotes instead of putting a\n",
        "hash symbol in front of each line\n",
        "\"\"\"\n",
        "def greetings(name):\n",
        "    print(f'Hello, {name}')"
      ],
      "metadata": {
        "id": "PqZ-iDvFp3B-"
      },
      "execution_count": null,
      "outputs": []
    }
  ]
}