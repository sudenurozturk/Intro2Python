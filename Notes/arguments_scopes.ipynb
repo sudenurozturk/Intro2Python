{
  "nbformat": 4,
  "nbformat_minor": 0,
  "metadata": {
    "colab": {
      "provenance": [],
      "include_colab_link": true
    },
    "kernelspec": {
      "name": "python3",
      "display_name": "Python 3"
    },
    "language_info": {
      "name": "python"
    }
  },
  "cells": [
    {
      "cell_type": "markdown",
      "metadata": {
        "id": "view-in-github",
        "colab_type": "text"
      },
      "source": [
        "<a href=\"https://colab.research.google.com/github/sudenurozturk/Intro2Python/blob/main/Notes/arguments_scopes.ipynb\" target=\"_parent\"><img src=\"https://colab.research.google.com/assets/colab-badge.svg\" alt=\"Open In Colab\"/></a>"
      ]
    },
    {
      "cell_type": "markdown",
      "source": [
        "# Arguments Scopes"
      ],
      "metadata": {
        "id": "8sdkcjwEWGkr"
      }
    },
    {
      "cell_type": "code",
      "execution_count": 1,
      "metadata": {
        "id": "P7yJ7Ylt-1LH"
      },
      "outputs": [],
      "source": [
        "def argument_printer(arg_position1, arg_position2):\n",
        "   print('Argument at position 1:', arg_position1)\n",
        "   print('Argument at position 2:', arg_position2)"
      ]
    },
    {
      "cell_type": "code",
      "source": [
        "argument_printer('value 1', 'value 2')"
      ],
      "metadata": {
        "colab": {
          "base_uri": "https://localhost:8080/"
        },
        "id": "NrjcK-Nn-69n",
        "outputId": "9fabb791-c898-48ee-9c52-a1fdb9e32beb"
      },
      "execution_count": 2,
      "outputs": [
        {
          "output_type": "stream",
          "name": "stdout",
          "text": [
            "Argument at position 1: value 1\n",
            "Argument at position 2: value 2\n"
          ]
        }
      ]
    },
    {
      "cell_type": "code",
      "source": [
        "argument_printer()"
      ],
      "metadata": {
        "colab": {
          "base_uri": "https://localhost:8080/",
          "height": 158
        },
        "id": "m-tWHR8v--dQ",
        "outputId": "2b7650e4-27c1-4157-fe10-fffe7d531505"
      },
      "execution_count": 3,
      "outputs": [
        {
          "output_type": "error",
          "ename": "TypeError",
          "evalue": "argument_printer() missing 2 required positional arguments: 'arg_position1' and 'arg_position2'",
          "traceback": [
            "\u001b[0;31m---------------------------------------------------------------------------\u001b[0m",
            "\u001b[0;31mTypeError\u001b[0m                                 Traceback (most recent call last)",
            "\u001b[0;32m<ipython-input-3-7f6bf81e85b0>\u001b[0m in \u001b[0;36m<cell line: 0>\u001b[0;34m()\u001b[0m\n\u001b[0;32m----> 1\u001b[0;31m \u001b[0margument_printer\u001b[0m\u001b[0;34m(\u001b[0m\u001b[0;34m)\u001b[0m\u001b[0;34m\u001b[0m\u001b[0;34m\u001b[0m\u001b[0m\n\u001b[0m",
            "\u001b[0;31mTypeError\u001b[0m: argument_printer() missing 2 required positional arguments: 'arg_position1' and 'arg_position2'"
          ]
        }
      ]
    },
    {
      "cell_type": "code",
      "source": [
        "def greetings(first_name, last_name, auto_correction):\n",
        "  if auto_correction == True:\n",
        "    capitalized_first_name = first_name.capitalize()\n",
        "    capitalized_last_name = last_name.capitalize()\n",
        "    print(\"Hello,\", capitalized_first_name, capitalized_last_name)\n",
        "  else:\n",
        "    print(\"Hello,\", first_name, last_name)"
      ],
      "metadata": {
        "id": "RJKQJPke_EI2"
      },
      "execution_count": 4,
      "outputs": []
    },
    {
      "cell_type": "code",
      "source": [
        "greetings('deNiZ', 'kaYa', True)"
      ],
      "metadata": {
        "colab": {
          "base_uri": "https://localhost:8080/"
        },
        "id": "CSoeBVAY_H3j",
        "outputId": "566525cd-e52e-42a7-ec65-25c7b9f6321e"
      },
      "execution_count": 5,
      "outputs": [
        {
          "output_type": "stream",
          "name": "stdout",
          "text": [
            "Hello, Deniz Kaya\n"
          ]
        }
      ]
    },
    {
      "cell_type": "code",
      "source": [
        "greetings('deNiZ', 'kaYa', False)"
      ],
      "metadata": {
        "colab": {
          "base_uri": "https://localhost:8080/"
        },
        "id": "vsyb5JTn_RUM",
        "outputId": "46630c76-8996-444f-8a62-e932a01d4936"
      },
      "execution_count": 6,
      "outputs": [
        {
          "output_type": "stream",
          "name": "stdout",
          "text": [
            "Hello, deNiZ kaYa\n"
          ]
        }
      ]
    },
    {
      "cell_type": "code",
      "source": [
        "def greetings(first_name, last_name, auto_correction = True):\n",
        "  if auto_correction == True:\n",
        "    capitalized_first_name = first_name.capitalize()\n",
        "    capitalized_last_name = last_name.capitalize()\n",
        "    print(\"Hello,\", capitalized_first_name, capitalized_last_name)\n",
        "  else:\n",
        "    print(\"Hello,\", first_name, last_name)"
      ],
      "metadata": {
        "id": "q4K16Fqt_Zz6"
      },
      "execution_count": 7,
      "outputs": []
    },
    {
      "cell_type": "code",
      "source": [
        "greetings('deNiz', 'kAYa')"
      ],
      "metadata": {
        "colab": {
          "base_uri": "https://localhost:8080/"
        },
        "id": "80wsTVOU_rEc",
        "outputId": "ed4ba91b-35e8-469b-e925-254384622354"
      },
      "execution_count": 8,
      "outputs": [
        {
          "output_type": "stream",
          "name": "stdout",
          "text": [
            "Hello, Deniz Kaya\n"
          ]
        }
      ]
    },
    {
      "cell_type": "code",
      "source": [
        "def car(brand, model, colour):\n",
        "    print('My favourite car is the', brand, model, 'in the colour', colour)"
      ],
      "metadata": {
        "id": "JgeAtvMl_xCu"
      },
      "execution_count": 9,
      "outputs": []
    },
    {
      "cell_type": "code",
      "source": [
        "car('Audi', 'R8', 'black')"
      ],
      "metadata": {
        "colab": {
          "base_uri": "https://localhost:8080/"
        },
        "id": "D-7td4Ee_zRD",
        "outputId": "5ee4327f-678a-47ab-a43b-a31e4c96036b"
      },
      "execution_count": 10,
      "outputs": [
        {
          "output_type": "stream",
          "name": "stdout",
          "text": [
            "My favourite car is the Audi R8 in the colour black\n"
          ]
        }
      ]
    },
    {
      "cell_type": "code",
      "source": [
        "car(colour = 'black', model = 'R8', brand = 'Audi')"
      ],
      "metadata": {
        "colab": {
          "base_uri": "https://localhost:8080/"
        },
        "id": "Ko3b8AYP_2Eu",
        "outputId": "59666855-d82a-453b-ed92-298357beacb7"
      },
      "execution_count": 11,
      "outputs": [
        {
          "output_type": "stream",
          "name": "stdout",
          "text": [
            "My favourite car is the Audi R8 in the colour black\n"
          ]
        }
      ]
    },
    {
      "cell_type": "code",
      "source": [
        "car(colour = 'Audi', model = 'R8', 'black')"
      ],
      "metadata": {
        "colab": {
          "base_uri": "https://localhost:8080/",
          "height": 106
        },
        "id": "wJuupy38_38x",
        "outputId": "845f62b5-65d3-4c13-9d78-f3f9b5daa6de"
      },
      "execution_count": 12,
      "outputs": [
        {
          "output_type": "error",
          "ename": "SyntaxError",
          "evalue": "positional argument follows keyword argument (<ipython-input-12-4b6aad4bffeb>, line 1)",
          "traceback": [
            "\u001b[0;36m  File \u001b[0;32m\"<ipython-input-12-4b6aad4bffeb>\"\u001b[0;36m, line \u001b[0;32m1\u001b[0m\n\u001b[0;31m    car(colour = 'Audi', model = 'R8', 'black')\u001b[0m\n\u001b[0m                                              ^\u001b[0m\n\u001b[0;31mSyntaxError\u001b[0m\u001b[0;31m:\u001b[0m positional argument follows keyword argument\n"
          ]
        }
      ]
    },
    {
      "cell_type": "code",
      "source": [
        "number = 13 #Global Variable\n",
        "\n",
        "def change_number():\n",
        " number = 4 #Local Variable\n",
        "\n",
        "change_number()\n",
        "print(number)"
      ],
      "metadata": {
        "colab": {
          "base_uri": "https://localhost:8080/"
        },
        "id": "1vBOOa4k_55Z",
        "outputId": "93b2f1c0-24b7-422f-893b-6c798a925388"
      },
      "execution_count": 13,
      "outputs": [
        {
          "output_type": "stream",
          "name": "stdout",
          "text": [
            "13\n"
          ]
        }
      ]
    },
    {
      "cell_type": "code",
      "source": [
        "#number = 13\n",
        "\n",
        "def change_number():\n",
        " num = 4\n",
        "\n",
        "change_number()\n",
        "print(num)"
      ],
      "metadata": {
        "colab": {
          "base_uri": "https://localhost:8080/",
          "height": 176
        },
        "id": "uyBNCtCzABFr",
        "outputId": "f6795478-e6f3-4e18-9156-9576ad4e8b87"
      },
      "execution_count": 18,
      "outputs": [
        {
          "output_type": "error",
          "ename": "NameError",
          "evalue": "name 'num' is not defined",
          "traceback": [
            "\u001b[0;31m---------------------------------------------------------------------------\u001b[0m",
            "\u001b[0;31mNameError\u001b[0m                                 Traceback (most recent call last)",
            "\u001b[0;32m<ipython-input-18-dc2c014b989b>\u001b[0m in \u001b[0;36m<cell line: 0>\u001b[0;34m()\u001b[0m\n\u001b[1;32m      5\u001b[0m \u001b[0;34m\u001b[0m\u001b[0m\n\u001b[1;32m      6\u001b[0m \u001b[0mchange_number\u001b[0m\u001b[0;34m(\u001b[0m\u001b[0;34m)\u001b[0m\u001b[0;34m\u001b[0m\u001b[0;34m\u001b[0m\u001b[0m\n\u001b[0;32m----> 7\u001b[0;31m \u001b[0mprint\u001b[0m\u001b[0;34m(\u001b[0m\u001b[0mnum\u001b[0m\u001b[0;34m)\u001b[0m\u001b[0;34m\u001b[0m\u001b[0;34m\u001b[0m\u001b[0m\n\u001b[0m",
            "\u001b[0;31mNameError\u001b[0m: name 'num' is not defined"
          ]
        }
      ]
    },
    {
      "cell_type": "code",
      "source": [
        "number = 13\n",
        "\n",
        "def change_number():\n",
        " global number\n",
        " number = 4\n",
        "\n",
        "change_number()\n",
        "print(number)"
      ],
      "metadata": {
        "colab": {
          "base_uri": "https://localhost:8080/"
        },
        "id": "_GVRNAhPACz4",
        "outputId": "ec0488c1-5381-499d-ac31-ce0eb5ce9c02"
      },
      "execution_count": 19,
      "outputs": [
        {
          "output_type": "stream",
          "name": "stdout",
          "text": [
            "4\n"
          ]
        }
      ]
    }
  ]
}