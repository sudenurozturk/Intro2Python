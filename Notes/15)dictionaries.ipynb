{
  "nbformat": 4,
  "nbformat_minor": 0,
  "metadata": {
    "colab": {
      "provenance": [],
      "include_colab_link": true
    },
    "kernelspec": {
      "name": "python3",
      "display_name": "Python 3"
    },
    "language_info": {
      "name": "python"
    }
  },
  "cells": [
    {
      "cell_type": "markdown",
      "metadata": {
        "id": "view-in-github",
        "colab_type": "text"
      },
      "source": [
        "<a href=\"https://colab.research.google.com/github/sudenurozturk/Intro2Python/blob/main/Notes/15)dictionaries.ipynb\" target=\"_parent\"><img src=\"https://colab.research.google.com/assets/colab-badge.svg\" alt=\"Open In Colab\"/></a>"
      ]
    },
    {
      "cell_type": "markdown",
      "source": [
        "# Dictionaries:"
      ],
      "metadata": {
        "id": "a4vwEv3LkyEw"
      }
    },
    {
      "cell_type": "code",
      "execution_count": 1,
      "metadata": {
        "colab": {
          "base_uri": "https://localhost:8080/"
        },
        "id": "4wtb2n1Ok4bT",
        "outputId": "96370e68-f8cb-4960-b000-0c53d8a71d5c"
      },
      "outputs": [
        {
          "output_type": "stream",
          "name": "stdout",
          "text": [
            "{'Deniz Kaya': '+90 505 123 45 67', 'Selin Demir': '+49 157 12345678', 'Ali Can': '+1 234 235 5678'}\n"
          ]
        }
      ],
      "source": [
        "phone_book = {'Deniz Kaya':'+90 505 123 45 67', 'Selin Demir': '+49 157 12345678', 'Ali Can':'+1 234 235 5678'}\n",
        "print(phone_book)"
      ]
    },
    {
      "cell_type": "code",
      "source": [
        "print(phone_book['Deniz Kaya'])"
      ],
      "metadata": {
        "colab": {
          "base_uri": "https://localhost:8080/"
        },
        "id": "q0R35GrhlDNv",
        "outputId": "e5e8e89b-ea6c-4df2-f96c-727fd616ea8c"
      },
      "execution_count": 2,
      "outputs": [
        {
          "output_type": "stream",
          "name": "stdout",
          "text": [
            "+90 505 123 45 67\n"
          ]
        }
      ]
    },
    {
      "cell_type": "code",
      "source": [
        "inventory = dict()\n",
        "inventory['bananas'] = 25\n",
        "inventory['apples'] = 102\n",
        "inventory['oranges'] = 54\n",
        "inventory['watermelons'] = 4"
      ],
      "metadata": {
        "id": "0QnL__WxlGkq"
      },
      "execution_count": 3,
      "outputs": []
    },
    {
      "cell_type": "code",
      "source": [
        "print(inventory)"
      ],
      "metadata": {
        "colab": {
          "base_uri": "https://localhost:8080/"
        },
        "id": "6gekpHb-lIuc",
        "outputId": "1ad166e8-a82f-43ed-843f-ab7795d59f4a"
      },
      "execution_count": 4,
      "outputs": [
        {
          "output_type": "stream",
          "name": "stdout",
          "text": [
            "{'bananas': 25, 'apples': 102, 'oranges': 54, 'watermelons': 4}\n"
          ]
        }
      ]
    },
    {
      "cell_type": "code",
      "source": [
        "print(inventory['apples'])"
      ],
      "metadata": {
        "colab": {
          "base_uri": "https://localhost:8080/"
        },
        "id": "4gY80Kf5lKcS",
        "outputId": "067f1821-034a-45e8-c0e5-d650a8ccc493"
      },
      "execution_count": 5,
      "outputs": [
        {
          "output_type": "stream",
          "name": "stdout",
          "text": [
            "102\n"
          ]
        }
      ]
    },
    {
      "cell_type": "code",
      "source": [
        "print(inventory.keys())"
      ],
      "metadata": {
        "colab": {
          "base_uri": "https://localhost:8080/"
        },
        "id": "cjlmVe7YlMgS",
        "outputId": "81c31800-9083-469f-b46b-50a165b17ae4"
      },
      "execution_count": 6,
      "outputs": [
        {
          "output_type": "stream",
          "name": "stdout",
          "text": [
            "dict_keys(['bananas', 'apples', 'oranges', 'watermelons'])\n"
          ]
        }
      ]
    },
    {
      "cell_type": "code",
      "source": [
        "print(inventory.values())"
      ],
      "metadata": {
        "colab": {
          "base_uri": "https://localhost:8080/"
        },
        "id": "U11xWcn0lO-I",
        "outputId": "b841f0ae-3c8a-41d8-fa0f-7fe26da487ad"
      },
      "execution_count": 7,
      "outputs": [
        {
          "output_type": "stream",
          "name": "stdout",
          "text": [
            "dict_values([25, 102, 54, 4])\n"
          ]
        }
      ]
    },
    {
      "cell_type": "code",
      "source": [
        "print(inventory.items())"
      ],
      "metadata": {
        "colab": {
          "base_uri": "https://localhost:8080/"
        },
        "id": "_RFGGs-SlRZw",
        "outputId": "e05a6621-b06a-4ab0-a160-d39b03ec92f6"
      },
      "execution_count": 8,
      "outputs": [
        {
          "output_type": "stream",
          "name": "stdout",
          "text": [
            "dict_items([('bananas', 25), ('apples', 102), ('oranges', 54), ('watermelons', 4)])\n"
          ]
        }
      ]
    },
    {
      "cell_type": "code",
      "source": [
        "for element in inventory:\n",
        "  print(element)"
      ],
      "metadata": {
        "colab": {
          "base_uri": "https://localhost:8080/"
        },
        "id": "Xph_mKf7lTTL",
        "outputId": "87a35dba-1ed1-4f52-ed4f-34fcafea1b97"
      },
      "execution_count": 9,
      "outputs": [
        {
          "output_type": "stream",
          "name": "stdout",
          "text": [
            "bananas\n",
            "apples\n",
            "oranges\n",
            "watermelons\n"
          ]
        }
      ]
    },
    {
      "cell_type": "code",
      "source": [
        "for key in inventory:\n",
        "  inventory[key] += 100\n",
        "\n",
        "print(inventory)"
      ],
      "metadata": {
        "colab": {
          "base_uri": "https://localhost:8080/"
        },
        "id": "afU7szpGlXHW",
        "outputId": "6691bd9e-62a3-4d90-e35e-b458d088b2c0"
      },
      "execution_count": 10,
      "outputs": [
        {
          "output_type": "stream",
          "name": "stdout",
          "text": [
            "{'bananas': 125, 'apples': 202, 'oranges': 154, 'watermelons': 104}\n"
          ]
        }
      ]
    },
    {
      "cell_type": "code",
      "source": [
        "for key, value in inventory.items():\n",
        "    if value > 200:\n",
        "        print('Too many', key)\n",
        "    else:\n",
        "        print('Enough', key)"
      ],
      "metadata": {
        "colab": {
          "base_uri": "https://localhost:8080/"
        },
        "id": "mcNX0cu5laTs",
        "outputId": "832013ac-bf45-4394-9cf4-204c93824b93"
      },
      "execution_count": 11,
      "outputs": [
        {
          "output_type": "stream",
          "name": "stdout",
          "text": [
            "Enough bananas\n",
            "Too many apples\n",
            "Enough oranges\n",
            "Enough watermelons\n"
          ]
        }
      ]
    }
  ]
}