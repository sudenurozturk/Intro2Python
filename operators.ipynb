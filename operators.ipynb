{
  "nbformat": 4,
  "nbformat_minor": 0,
  "metadata": {
    "colab": {
      "provenance": [],
      "include_colab_link": true
    },
    "kernelspec": {
      "name": "python3",
      "display_name": "Python 3"
    },
    "language_info": {
      "name": "python"
    }
  },
  "cells": [
    {
      "cell_type": "markdown",
      "metadata": {
        "id": "view-in-github",
        "colab_type": "text"
      },
      "source": [
        "<a href=\"https://colab.research.google.com/github/sudenurozturk/Intro2Python/blob/main/operators.ipynb\" target=\"_parent\"><img src=\"https://colab.research.google.com/assets/colab-badge.svg\" alt=\"Open In Colab\"/></a>"
      ]
    },
    {
      "cell_type": "markdown",
      "source": [
        "# Operators"
      ],
      "metadata": {
        "id": "oR571hxZvXWa"
      }
    },
    {
      "cell_type": "markdown",
      "source": [
        "There are 4 types of operators in Python:\n",
        "1. Arithmetic\n",
        "2. Assignment\n",
        "3. Comparison\n",
        "4. Logical"
      ],
      "metadata": {
        "id": "vQQ-dln5vcDk"
      }
    },
    {
      "cell_type": "code",
      "execution_count": 1,
      "metadata": {
        "colab": {
          "base_uri": "https://localhost:8080/"
        },
        "id": "9wWTksnnycoO",
        "outputId": "a71911a5-1f6e-4bec-c23d-1357a885fdae"
      },
      "outputs": [
        {
          "output_type": "stream",
          "name": "stdout",
          "text": [
            "7\n"
          ]
        }
      ],
      "source": [
        "print(2 + 5)"
      ]
    },
    {
      "cell_type": "markdown",
      "source": [
        "There are also mathematical operations that are probably less familiar, like the floor division. Unlike the normal division, here the result will be rounded to a whole number. That’s why it is also called integer division. In Python, the number will always be rounded to the smaller integer, and we use double back slash symbols for this. Finally, we have the modulo operator, which will give you the remainder of a division."
      ],
      "metadata": {
        "id": "yBzm5Ml-v3Jw"
      }
    },
    {
      "cell_type": "code",
      "source": [
        "print(\"5 + 2 =\", 5+2)\n",
        "print(\"5 - 2 =\", 5-2)\n",
        "print(\"5 * 2 =\", 5*2)\n",
        "print(\"5 / 2 =\", 5/2)\n",
        "print(\"5 // 2 =\", 5//2)\n",
        "print(\"5 ** 2 =\", 5**2)\n",
        "print(\"5 % 2 =\", 5%2)"
      ],
      "metadata": {
        "colab": {
          "base_uri": "https://localhost:8080/"
        },
        "id": "qIJyM19KyjTk",
        "outputId": "17a694ea-8257-4d99-d117-6e684820ef9d"
      },
      "execution_count": 2,
      "outputs": [
        {
          "output_type": "stream",
          "name": "stdout",
          "text": [
            "5 + 2 = 7\n",
            "5 - 2 = 3\n",
            "5 * 2 = 10\n",
            "5 / 2 = 2.5\n",
            "5 // 2 = 2\n",
            "5 ** 2 = 25\n",
            "5 % 2 = 1\n"
          ]
        }
      ]
    },
    {
      "cell_type": "code",
      "source": [
        "x = 5 # equivalent to x = 5\n",
        "x += 5 # equivalent to x = x + 5\n",
        "x -= 5 # equivalent to x = x - 5\n",
        "x *= 5 # equivalent to x = x * 5\n",
        "x /= 5 # equivalent to x = x / 5\n",
        "x %= 5 # equivalent to x = x % 5\n",
        "x //= 5 # equivalent to x = x // 5\n",
        "x **= 5 # equivalent to x = x ** 5"
      ],
      "metadata": {
        "id": "EUQkOAaBzPwU"
      },
      "execution_count": 3,
      "outputs": []
    },
    {
      "cell_type": "code",
      "source": [
        "num1 = 10\n",
        "num2 = 5\n",
        "\n",
        "print(num1, \">\", num2, \"=\", num1 > num2)\n",
        "print(num1, \">=\", num2, \"=\", num1 >= num2)\n",
        "print(num1, \"<\", num2, \"=\", num1 < num2)\n",
        "print(num1, \"<=\", num2, \"=\", num1 <= num2)\n",
        "print(num1, \"==\", num2, \"=\", num1 == num2)\n",
        "print(num1, \"!=\", num2, \"=\", num1 != num2)"
      ],
      "metadata": {
        "colab": {
          "base_uri": "https://localhost:8080/"
        },
        "id": "Ei5wl-s2z4R4",
        "outputId": "b0ea9b11-a516-4429-8830-a8c445fca5b8"
      },
      "execution_count": 4,
      "outputs": [
        {
          "output_type": "stream",
          "name": "stdout",
          "text": [
            "10 > 5 = True\n",
            "10 >= 5 = True\n",
            "10 < 5 = False\n",
            "10 <= 5 = False\n",
            "10 == 5 = False\n",
            "10 != 5 = True\n"
          ]
        }
      ]
    },
    {
      "cell_type": "code",
      "source": [
        "print(\"True and True =\", True and True)\n",
        "print(\"True and False =\", True and False)\n",
        "print(\"False and True =\", False and True)\n",
        "print(\"False and False =\", False and False)"
      ],
      "metadata": {
        "colab": {
          "base_uri": "https://localhost:8080/"
        },
        "id": "I8VvBoe50Wul",
        "outputId": "36d0ae2d-f121-4883-ce39-889d777e194f"
      },
      "execution_count": 5,
      "outputs": [
        {
          "output_type": "stream",
          "name": "stdout",
          "text": [
            "True and True = True\n",
            "True and False = False\n",
            "False and True = False\n",
            "False and False = False\n"
          ]
        }
      ]
    },
    {
      "cell_type": "code",
      "source": [
        "print(True and False and False)"
      ],
      "metadata": {
        "colab": {
          "base_uri": "https://localhost:8080/"
        },
        "id": "cKgqL8gG0h-2",
        "outputId": "74ae7a97-032f-4d22-e348-9ada25606380"
      },
      "execution_count": 6,
      "outputs": [
        {
          "output_type": "stream",
          "name": "stdout",
          "text": [
            "False\n"
          ]
        }
      ]
    },
    {
      "cell_type": "code",
      "source": [
        "print(\"True or True =\", True or True)\n",
        "print(\"True or False =\", True or False)\n",
        "print(\"False or True =\", False or True)\n",
        "print(\"False or False =\", False or False)"
      ],
      "metadata": {
        "colab": {
          "base_uri": "https://localhost:8080/"
        },
        "id": "XURxbBFS0qQj",
        "outputId": "904a37a4-62e2-4052-ee47-e8db26148a46"
      },
      "execution_count": 7,
      "outputs": [
        {
          "output_type": "stream",
          "name": "stdout",
          "text": [
            "True or True = True\n",
            "True or False = True\n",
            "False or True = True\n",
            "False or False = False\n"
          ]
        }
      ]
    },
    {
      "cell_type": "code",
      "source": [
        "print(\"not True =\", not True)\n",
        "print(\"not False =\", not False)"
      ],
      "metadata": {
        "colab": {
          "base_uri": "https://localhost:8080/"
        },
        "id": "ns55hdqK01hS",
        "outputId": "9648cc59-1843-48f3-d69c-446b92e68e77"
      },
      "execution_count": 8,
      "outputs": [
        {
          "output_type": "stream",
          "name": "stdout",
          "text": [
            "not True = False\n",
            "not False = True\n"
          ]
        }
      ]
    }
  ]
}