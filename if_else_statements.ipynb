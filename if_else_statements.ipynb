{
  "nbformat": 4,
  "nbformat_minor": 0,
  "metadata": {
    "colab": {
      "provenance": [],
      "include_colab_link": true
    },
    "kernelspec": {
      "name": "python3",
      "display_name": "Python 3"
    },
    "language_info": {
      "name": "python"
    }
  },
  "cells": [
    {
      "cell_type": "markdown",
      "metadata": {
        "id": "view-in-github",
        "colab_type": "text"
      },
      "source": [
        "<a href=\"https://colab.research.google.com/github/sudenurozturk/Intro2Python/blob/main/if_else_statements.ipynb\" target=\"_parent\"><img src=\"https://colab.research.google.com/assets/colab-badge.svg\" alt=\"Open In Colab\"/></a>"
      ]
    },
    {
      "cell_type": "markdown",
      "source": [
        "# If - Else Statements"
      ],
      "metadata": {
        "id": "hXyUPK6rdjGL"
      }
    },
    {
      "cell_type": "code",
      "execution_count": 1,
      "metadata": {
        "colab": {
          "base_uri": "https://localhost:8080/"
        },
        "id": "aD_OzFaB5vmY",
        "outputId": "c542698b-5e0d-4871-c8b0-035b0fb14253"
      },
      "outputs": [
        {
          "output_type": "stream",
          "name": "stdout",
          "text": [
            "Good 🟩\n"
          ]
        }
      ],
      "source": [
        "celsius = 25\n",
        "if celsius > 20:\n",
        "  print('Good 🟩')"
      ]
    },
    {
      "cell_type": "code",
      "source": [
        "celsius = 18\n",
        "if celsius > 20:\n",
        "  print('Good 🟩')"
      ],
      "metadata": {
        "id": "74-_wZlL51f1"
      },
      "execution_count": 2,
      "outputs": []
    },
    {
      "cell_type": "code",
      "source": [
        "celsius = 18\n",
        "if celsius > 20:\n",
        "  print('Good 🟩')\n",
        "else:\n",
        "  print('Cold ❄️')"
      ],
      "metadata": {
        "colab": {
          "base_uri": "https://localhost:8080/"
        },
        "id": "-SSIh0iv53K4",
        "outputId": "933c14ce-b5d5-483d-9bb3-6f46a642219f"
      },
      "execution_count": 3,
      "outputs": [
        {
          "output_type": "stream",
          "name": "stdout",
          "text": [
            "Cold ❄️\n"
          ]
        }
      ]
    },
    {
      "cell_type": "code",
      "source": [
        "celsius = 32\n",
        "if celsius > 30:\n",
        "  print('Hot 🔥')\n",
        "if celsius > 20:\n",
        "  print('Good 🟩')\n",
        "else:\n",
        "  print('Cold ❄️')"
      ],
      "metadata": {
        "colab": {
          "base_uri": "https://localhost:8080/"
        },
        "id": "Wm_vcxQW544b",
        "outputId": "d38d3fe2-9733-49f7-91b5-3ffe8e7e13df"
      },
      "execution_count": 4,
      "outputs": [
        {
          "output_type": "stream",
          "name": "stdout",
          "text": [
            "Hot 🔥\n",
            "Good 🟩\n"
          ]
        }
      ]
    },
    {
      "cell_type": "code",
      "source": [
        "celsius = 32\n",
        "if celsius > 30:\n",
        "  print('Hot 🔥')\n",
        "elif celsius > 20:\n",
        "  print('Good 🟩')\n",
        "else:\n",
        "  print('Cold ❄️')"
      ],
      "metadata": {
        "colab": {
          "base_uri": "https://localhost:8080/"
        },
        "id": "qE-u5u2W58p5",
        "outputId": "0b52b2db-dbd0-4ad5-9031-d0a8443fcd91"
      },
      "execution_count": 5,
      "outputs": [
        {
          "output_type": "stream",
          "name": "stdout",
          "text": [
            "Hot 🔥\n"
          ]
        }
      ]
    },
    {
      "cell_type": "code",
      "source": [
        "celsius = 32\n",
        "\n",
        "if celsius > 30:\n",
        "  print('Hot 🔥')\n",
        "elif 30 >= celsius > 20:\n",
        "  print('Good 🟩')\n",
        "elif -273 < celsius <= 20:\n",
        "  print('Cold ❄️')\n",
        "else:\n",
        "  print('Something went wrong!')"
      ],
      "metadata": {
        "colab": {
          "base_uri": "https://localhost:8080/"
        },
        "id": "t3IOFpmW6FP1",
        "outputId": "c0d3d3c0-9170-48e8-baa7-1d6758199c7b"
      },
      "execution_count": 6,
      "outputs": [
        {
          "output_type": "stream",
          "name": "stdout",
          "text": [
            "Hot 🔥\n"
          ]
        }
      ]
    },
    {
      "cell_type": "code",
      "source": [
        "drivers_licence = True\n",
        "age = 17\n",
        "\n",
        "if age > 17:\n",
        "    if drivers_licence:\n",
        "        print('You can drive car')\n",
        "    else:\n",
        "        print('You need to go to a drivers licence course')\n",
        "else:\n",
        "    print('You need to get older')"
      ],
      "metadata": {
        "colab": {
          "base_uri": "https://localhost:8080/"
        },
        "id": "UEiL47E16HOp",
        "outputId": "daaacbe9-05d0-4a85-ba75-d00100b3d9c4"
      },
      "execution_count": 7,
      "outputs": [
        {
          "output_type": "stream",
          "name": "stdout",
          "text": [
            "You need to get older\n"
          ]
        }
      ]
    }
  ]
}