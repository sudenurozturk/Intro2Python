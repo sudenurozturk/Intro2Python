{
  "nbformat": 4,
  "nbformat_minor": 0,
  "metadata": {
    "colab": {
      "provenance": [],
      "include_colab_link": true
    },
    "kernelspec": {
      "name": "python3",
      "display_name": "Python 3"
    },
    "language_info": {
      "name": "python"
    }
  },
  "cells": [
    {
      "cell_type": "markdown",
      "metadata": {
        "id": "view-in-github",
        "colab_type": "text"
      },
      "source": [
        "<a href=\"https://colab.research.google.com/github/sudenurozturk/Intro2Python/blob/main/for_loops.ipynb\" target=\"_parent\"><img src=\"https://colab.research.google.com/assets/colab-badge.svg\" alt=\"Open In Colab\"/></a>"
      ]
    },
    {
      "cell_type": "markdown",
      "source": [
        "# For Loops"
      ],
      "metadata": {
        "id": "uk3Iu6yxe5-b"
      }
    },
    {
      "cell_type": "code",
      "execution_count": 1,
      "metadata": {
        "colab": {
          "base_uri": "https://localhost:8080/"
        },
        "id": "ygG2PdH06l2d",
        "outputId": "2790248d-783c-43ac-ff9d-99a548eb983c"
      },
      "outputs": [
        {
          "output_type": "stream",
          "name": "stdout",
          "text": [
            "E\n",
            "y\n",
            "j\n",
            "a\n",
            "f\n",
            "j\n",
            "a\n",
            "l\n",
            "l\n",
            "a\n",
            "j\n",
            "ö\n",
            "k\n",
            "u\n",
            "l\n",
            "l\n"
          ]
        }
      ],
      "source": [
        "print('E')\n",
        "print('y')\n",
        "print('j')\n",
        "print('a')\n",
        "print('f')\n",
        "print('j')\n",
        "print('a')\n",
        "print('l')\n",
        "print('l')\n",
        "print('a')\n",
        "print('j')\n",
        "print('ö')\n",
        "print('k')\n",
        "print('u')\n",
        "print('l')\n",
        "print('l')"
      ]
    },
    {
      "cell_type": "code",
      "source": [
        "volcano_name = 'Eyjafjallajökull'\n",
        "\n",
        "for i in volcano_name:\n",
        "  print(i)\n",
        "print('Loop is completed')"
      ],
      "metadata": {
        "colab": {
          "base_uri": "https://localhost:8080/"
        },
        "id": "rSmK86Uz6q-5",
        "outputId": "f4d78dfb-6655-43f0-cdd8-2f75c6587631"
      },
      "execution_count": 2,
      "outputs": [
        {
          "output_type": "stream",
          "name": "stdout",
          "text": [
            "E\n",
            "y\n",
            "j\n",
            "a\n",
            "f\n",
            "j\n",
            "a\n",
            "l\n",
            "l\n",
            "a\n",
            "j\n",
            "ö\n",
            "k\n",
            "u\n",
            "l\n",
            "l\n",
            "Loop is completed\n"
          ]
        }
      ]
    },
    {
      "cell_type": "code",
      "source": [
        "numbers = [1, 2, 3, 4, 5, 6, 7, 8, 9,10]\n",
        "for i in numbers:\n",
        "  print(i)\n",
        "\n",
        "print('Loop is completed')"
      ],
      "metadata": {
        "colab": {
          "base_uri": "https://localhost:8080/"
        },
        "id": "DvoG_vBU6zkv",
        "outputId": "dd7dd051-87b5-4136-968c-81cf032c2c71"
      },
      "execution_count": 3,
      "outputs": [
        {
          "output_type": "stream",
          "name": "stdout",
          "text": [
            "1\n",
            "2\n",
            "3\n",
            "4\n",
            "5\n",
            "6\n",
            "7\n",
            "8\n",
            "9\n",
            "10\n",
            "Loop is completed\n"
          ]
        }
      ]
    },
    {
      "cell_type": "code",
      "source": [
        "for i in range(5,21):\n",
        "  print(i)\n",
        "print('Loop is completed')"
      ],
      "metadata": {
        "colab": {
          "base_uri": "https://localhost:8080/"
        },
        "id": "dSBGHaCt61uy",
        "outputId": "d05f0d62-c14e-471e-f8bf-9c73de1421c2"
      },
      "execution_count": 4,
      "outputs": [
        {
          "output_type": "stream",
          "name": "stdout",
          "text": [
            "5\n",
            "6\n",
            "7\n",
            "8\n",
            "9\n",
            "10\n",
            "11\n",
            "12\n",
            "13\n",
            "14\n",
            "15\n",
            "16\n",
            "17\n",
            "18\n",
            "19\n",
            "20\n",
            "Loop is completed\n"
          ]
        }
      ]
    },
    {
      "cell_type": "code",
      "source": [
        "for i in range(1,101):\n",
        "  if i % 5 == 0:\n",
        "    print(i)\n",
        "\n",
        "print('Loop has been completed')"
      ],
      "metadata": {
        "colab": {
          "base_uri": "https://localhost:8080/"
        },
        "id": "lBRpZD3g636i",
        "outputId": "9e18278a-db65-4334-fbaf-6f07382bf261"
      },
      "execution_count": 5,
      "outputs": [
        {
          "output_type": "stream",
          "name": "stdout",
          "text": [
            "5\n",
            "10\n",
            "15\n",
            "20\n",
            "25\n",
            "30\n",
            "35\n",
            "40\n",
            "45\n",
            "50\n",
            "55\n",
            "60\n",
            "65\n",
            "70\n",
            "75\n",
            "80\n",
            "85\n",
            "90\n",
            "95\n",
            "100\n",
            "Loop has been completed\n"
          ]
        }
      ]
    },
    {
      "cell_type": "code",
      "source": [
        "for i in range(5):\n",
        "  print(i)"
      ],
      "metadata": {
        "colab": {
          "base_uri": "https://localhost:8080/"
        },
        "id": "caZhQQ4_fT81",
        "outputId": "9a19e9c8-aa3b-44b2-8518-63cff7331576"
      },
      "execution_count": 10,
      "outputs": [
        {
          "output_type": "stream",
          "name": "stdout",
          "text": [
            "0\n",
            "1\n",
            "2\n",
            "3\n",
            "4\n"
          ]
        }
      ]
    }
  ]
}
