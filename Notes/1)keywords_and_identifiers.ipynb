{
  "nbformat": 4,
  "nbformat_minor": 0,
  "metadata": {
    "colab": {
      "provenance": [],
      "include_colab_link": true
    },
    "kernelspec": {
      "name": "python3",
      "display_name": "Python 3"
    },
    "language_info": {
      "name": "python"
    }
  },
  "cells": [
    {
      "cell_type": "markdown",
      "metadata": {
        "id": "view-in-github",
        "colab_type": "text"
      },
      "source": [
        "<a href=\"https://colab.research.google.com/github/sudenurozturk/Intro2Python/blob/main/keywords_and_identifiers.ipynb\" target=\"_parent\"><img src=\"https://colab.research.google.com/assets/colab-badge.svg\" alt=\"Open In Colab\"/></a>"
      ]
    },
    {
      "cell_type": "markdown",
      "source": [
        "# **Keywords and Identifiers:**"
      ],
      "metadata": {
        "id": "4ks17BoLcx8j"
      }
    },
    {
      "cell_type": "markdown",
      "source": [
        "\n",
        "\n",
        "1.   You can use help() and then by typing 'keywords' to see the keywords in Python.\n",
        "\n"
      ],
      "metadata": {
        "id": "VhCq_5R_c63q"
      }
    },
    {
      "cell_type": "code",
      "execution_count": 1,
      "metadata": {
        "colab": {
          "base_uri": "https://localhost:8080/"
        },
        "id": "enf2mi3aofnj",
        "outputId": "a3f04162-3894-45cd-e2d8-cb98008bb756"
      },
      "outputs": [
        {
          "output_type": "stream",
          "name": "stdout",
          "text": [
            "Welcome to Python 3.11's help utility! If this is your first time using\n",
            "Python, you should definitely check out the tutorial at\n",
            "https://docs.python.org/3.11/tutorial/.\n",
            "\n",
            "Enter the name of any module, keyword, or topic to get help on writing\n",
            "Python programs and using Python modules.  To get a list of available\n",
            "modules, keywords, symbols, or topics, enter \"modules\", \"keywords\",\n",
            "\"symbols\", or \"topics\".\n",
            "\n",
            "Each module also comes with a one-line summary of what it does; to list\n",
            "the modules whose name or summary contain a given string such as \"spam\",\n",
            "enter \"modules spam\".\n",
            "\n",
            "To quit this help utility and return to the interpreter,\n",
            "enter \"q\" or \"quit\".\n",
            "\n",
            "help> keywords\n",
            "\n",
            "Here is a list of the Python keywords.  Enter any keyword to get more help.\n",
            "\n",
            "False               class               from                or\n",
            "None                continue            global              pass\n",
            "True                def                 if                  raise\n",
            "and                 del                 import              return\n",
            "as                  elif                in                  try\n",
            "assert              else                is                  while\n",
            "async               except              lambda              with\n",
            "await               finally             nonlocal            yield\n",
            "break               for                 not                 \n",
            "\n",
            "\n",
            "You are now leaving help and returning to the Python interpreter.\n",
            "If you want to ask for help on a particular object directly from the\n",
            "interpreter, you can type \"help(object)\".  Executing \"help('string')\"\n",
            "has the same effect as typing a particular string at the help> prompt.\n"
          ]
        }
      ],
      "source": [
        "help()"
      ]
    },
    {
      "cell_type": "markdown",
      "source": [
        "2.   For example, keyword in this code is 'if' as you can see that it appears to be a different color.\n",
        "\n"
      ],
      "metadata": {
        "id": "nVyQj4A0dGKi"
      }
    },
    {
      "cell_type": "code",
      "source": [
        "fav_number = 12\n",
        "if fav_number < 15:\n",
        "    print(\"My favourite number is smaller than 15\")"
      ],
      "metadata": {
        "colab": {
          "base_uri": "https://localhost:8080/"
        },
        "id": "QzoIJWe2owXj",
        "outputId": "b8048c07-b0ff-4b2b-ae0a-0f41e4e2cdfb"
      },
      "execution_count": 4,
      "outputs": [
        {
          "output_type": "stream",
          "name": "stdout",
          "text": [
            "My favourite number is smaller than 15\n"
          ]
        }
      ]
    },
    {
      "cell_type": "markdown",
      "source": [
        "An **identifier** is a user-defined name to represent basic objects in Python. These can be variables, functions, classes, modules, or other. Identifiers give these objects unique identities, which then allow us access to them through their name.\n",
        "\n",
        "But there are some rules.\n",
        "\n",
        "* Python is a **case-sensitive** language. So 'Name' and 'name' is different.\n",
        "* Uppercase or lowercase, underscores or numbers can be used.  \n",
        "* Identifiers can also start with an underscore, but not with a number.\n",
        "* Keywords cannot be used as identifiers\n",
        "* Finally, you cannot use symbols such as!, @, #, $ , or %.\n",
        "\n",
        "\n",
        "How you combine letters, numbers and underscores is up to you. But here is a little tip. There is a style when creating names in Python, it is called “**snake case**”. Here each space between words or numbers is replaced by an underscore, and the first letter of each word is written in lowercase, so it looks like a snake.\n",
        "\n",
        "\n",
        "\n"
      ],
      "metadata": {
        "id": "SGxjMVNhdUOF"
      }
    },
    {
      "cell_type": "code",
      "source": [
        "Name = \"Sude\"\n",
        "name = \"Nur\"\n",
        "_age = 21\n",
        "fav_color = \"Pink\"\n",
        "favcolor2 = \"Purple\"\n",
        "second_favcolor = \"Blue\""
      ],
      "metadata": {
        "id": "M3lwRYCMe4Q1"
      },
      "execution_count": 9,
      "outputs": []
    }
  ]
}
